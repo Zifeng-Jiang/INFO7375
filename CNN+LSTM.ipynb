{
 "cells": [
  {
   "cell_type": "markdown",
   "metadata": {},
   "source": [
    "# Final Project - Image Captioning\n",
    "Apply two different approaches, CNN + LSTM and ResNet + GRU, to automatically generate captions for images. Use Flickr 8k Dataset and pretrained deep models, as needed, to demonstrate the approaches. You must compare the performances of the two approaches by computing their BLEU scores.\n",
    "## CNN + LSTM"
   ]
  },
  {
   "cell_type": "code",
   "execution_count": 1,
   "metadata": {
    "_cell_guid": "b1076dfc-b9ad-4769-8c92-a6c4dae69d19",
    "_uuid": "8f2839f25d086af736a60e9eeb907d3b93b6e0e5",
    "execution": {
     "iopub.execute_input": "2022-04-30T23:34:14.837862Z",
     "iopub.status.busy": "2022-04-30T23:34:14.837559Z",
     "iopub.status.idle": "2022-04-30T23:34:14.845541Z",
     "shell.execute_reply": "2022-04-30T23:34:14.844377Z",
     "shell.execute_reply.started": "2022-04-30T23:34:14.837828Z"
    }
   },
   "outputs": [],
   "source": [
    "import numpy as np\n",
    "from glob import glob\n",
    "import cv2\n",
    "import tensorflow as tf\n",
    "import visualkeras\n",
    "from tensorflow.keras.models import Model, Sequential\n",
    "import tensorflow.keras.layers as lay\n",
    "from tensorflow.keras.utils import to_categorical\n",
    "from tensorflow.keras.layers import Input, Dense, LSTM, Embedding, Dropout, add, GRU, RepeatVector, TimeDistributed\n",
    "import os\n",
    "import matplotlib.pyplot as plt"
   ]
  },
  {
   "cell_type": "code",
   "execution_count": 2,
   "metadata": {
    "execution": {
     "iopub.execute_input": "2022-04-30T23:34:14.848482Z",
     "iopub.status.busy": "2022-04-30T23:34:14.848067Z",
     "iopub.status.idle": "2022-04-30T23:34:14.911603Z",
     "shell.execute_reply": "2022-04-30T23:34:14.910695Z",
     "shell.execute_reply.started": "2022-04-30T23:34:14.848434Z"
    }
   },
   "outputs": [],
   "source": [
    "images_path = r'E:\\NEU\\Courses\\22Spring\\INFO7375_ST in AI\\Final_Project_Zifeng_Jiang\\Images\\*.jpg'\n",
    "images = glob(images_path)\n",
    "\n",
    "caption_path = 'captions.txt'\n",
    "captions = open(caption_path, 'rb').read().decode('utf-8').split('\\n')\n",
    "captions = captions[1:]"
   ]
  },
  {
   "cell_type": "code",
   "execution_count": 3,
   "metadata": {
    "execution": {
     "iopub.execute_input": "2022-04-30T23:34:14.914536Z",
     "iopub.status.busy": "2022-04-30T23:34:14.913979Z",
     "iopub.status.idle": "2022-04-30T23:34:14.919922Z",
     "shell.execute_reply": "2022-04-30T23:34:14.919084Z",
     "shell.execute_reply.started": "2022-04-30T23:34:14.914486Z"
    }
   },
   "outputs": [],
   "source": [
    "# This variable is how many images that we will work on ( you can use the full dataset if you have good gpu and ram)\n",
    "samp = 1500"
   ]
  },
  {
   "cell_type": "code",
   "execution_count": 4,
   "metadata": {
    "execution": {
     "iopub.execute_input": "2022-04-30T23:34:23.467738Z",
     "iopub.status.busy": "2022-04-30T23:34:23.467129Z",
     "iopub.status.idle": "2022-04-30T23:34:28.899611Z",
     "shell.execute_reply": "2022-04-30T23:34:28.898159Z",
     "shell.execute_reply.started": "2022-04-30T23:34:23.467696Z"
    }
   },
   "outputs": [
    {
     "name": "stdout",
     "output_type": "stream",
     "text": [
      "Model: \"model\"\n",
      "_________________________________________________________________\n",
      " Layer (type)                Output Shape              Param #   \n",
      "=================================================================\n",
      " input_1 (InputLayer)        [(None, 224, 224, 3)]     0         \n",
      "                                                                 \n",
      " block1_conv1 (Conv2D)       (None, 224, 224, 64)      1792      \n",
      "                                                                 \n",
      " block1_conv2 (Conv2D)       (None, 224, 224, 64)      36928     \n",
      "                                                                 \n",
      " block1_pool (MaxPooling2D)  (None, 112, 112, 64)      0         \n",
      "                                                                 \n",
      " block2_conv1 (Conv2D)       (None, 112, 112, 128)     73856     \n",
      "                                                                 \n",
      " block2_conv2 (Conv2D)       (None, 112, 112, 128)     147584    \n",
      "                                                                 \n",
      " block2_pool (MaxPooling2D)  (None, 56, 56, 128)       0         \n",
      "                                                                 \n",
      " block3_conv1 (Conv2D)       (None, 56, 56, 256)       295168    \n",
      "                                                                 \n",
      " block3_conv2 (Conv2D)       (None, 56, 56, 256)       590080    \n",
      "                                                                 \n",
      " block3_conv3 (Conv2D)       (None, 56, 56, 256)       590080    \n",
      "                                                                 \n",
      " block3_pool (MaxPooling2D)  (None, 28, 28, 256)       0         \n",
      "                                                                 \n",
      " block4_conv1 (Conv2D)       (None, 28, 28, 512)       1180160   \n",
      "                                                                 \n",
      " block4_conv2 (Conv2D)       (None, 28, 28, 512)       2359808   \n",
      "                                                                 \n",
      " block4_conv3 (Conv2D)       (None, 28, 28, 512)       2359808   \n",
      "                                                                 \n",
      " block4_pool (MaxPooling2D)  (None, 14, 14, 512)       0         \n",
      "                                                                 \n",
      " block5_conv1 (Conv2D)       (None, 14, 14, 512)       2359808   \n",
      "                                                                 \n",
      " block5_conv2 (Conv2D)       (None, 14, 14, 512)       2359808   \n",
      "                                                                 \n",
      " block5_conv3 (Conv2D)       (None, 14, 14, 512)       2359808   \n",
      "                                                                 \n",
      " block5_pool (MaxPooling2D)  (None, 7, 7, 512)         0         \n",
      "                                                                 \n",
      " flatten (Flatten)           (None, 25088)             0         \n",
      "                                                                 \n",
      " fc1 (Dense)                 (None, 4096)              102764544 \n",
      "                                                                 \n",
      " fc2 (Dense)                 (None, 4096)              16781312  \n",
      "                                                                 \n",
      "=================================================================\n",
      "Total params: 134,260,544\n",
      "Trainable params: 134,260,544\n",
      "Non-trainable params: 0\n",
      "_________________________________________________________________\n"
     ]
    }
   ],
   "source": [
    "from tensorflow.keras.applications import VGG16\n",
    "\n",
    "# load vgg16 model\n",
    "cnn = VGG16()\n",
    "# restructure the model\n",
    "cnn = Model(inputs = cnn.inputs, outputs = cnn.layers[-2].output)\n",
    "# summarize\n",
    "cnn.summary()"
   ]
  },
  {
   "cell_type": "markdown",
   "metadata": {},
   "source": [
    "## Data Preprocessing and feature extraction"
   ]
  },
  {
   "cell_type": "code",
   "execution_count": 5,
   "metadata": {
    "execution": {
     "iopub.execute_input": "2022-04-30T23:34:28.902393Z",
     "iopub.status.busy": "2022-04-30T23:34:28.902026Z",
     "iopub.status.idle": "2022-04-30T23:36:23.786488Z",
     "shell.execute_reply": "2022-04-30T23:36:23.785486Z",
     "shell.execute_reply.started": "2022-04-30T23:34:28.902315Z"
    }
   },
   "outputs": [],
   "source": [
    "# Reading the images and extract the features\n",
    "imgs = {}\n",
    "l = 0\n",
    "for i in images:\n",
    "    if l == samp:\n",
    "        break\n",
    "    k = i.split('\\\\')[-1]\n",
    "\n",
    "    img = cv2.imread(i)\n",
    "    img = cv2.cvtColor(img, cv2.COLOR_BGR2RGB)\n",
    "    img = cv2.resize(img, (224,224))\n",
    "    img = img.reshape(1,224,224,3)\n",
    "    pred = cnn.predict(img).reshape(4096,)\n",
    "\n",
    "    imgs[k] = pred\n",
    "    l += 1"
   ]
  },
  {
   "cell_type": "code",
   "execution_count": 6,
   "metadata": {
    "execution": {
     "iopub.execute_input": "2022-04-30T23:36:23.788789Z",
     "iopub.status.busy": "2022-04-30T23:36:23.788496Z",
     "iopub.status.idle": "2022-04-30T23:36:23.839154Z",
     "shell.execute_reply": "2022-04-30T23:36:23.838287Z",
     "shell.execute_reply.started": "2022-04-30T23:36:23.788745Z"
    }
   },
   "outputs": [],
   "source": [
    "caps = {}\n",
    "for cap in captions:\n",
    "    try:\n",
    "        a = cap.split(',')\n",
    "        path = a[0]\n",
    "        cape = a[1][:-2]\n",
    "    except:\n",
    "        continue\n",
    "    \n",
    "    if path in imgs:\n",
    "        if path not in caps:\n",
    "            caps[path] = [cape]\n",
    "        else:\n",
    "            caps[path].append(cape)"
   ]
  },
  {
   "cell_type": "code",
   "execution_count": 7,
   "metadata": {
    "execution": {
     "iopub.execute_input": "2022-04-30T23:36:23.842148Z",
     "iopub.status.busy": "2022-04-30T23:36:23.841724Z",
     "iopub.status.idle": "2022-04-30T23:36:23.855096Z",
     "shell.execute_reply": "2022-04-30T23:36:23.854225Z",
     "shell.execute_reply.started": "2022-04-30T23:36:23.842100Z"
    }
   },
   "outputs": [],
   "source": [
    "for i,c in caps.items():\n",
    "    for cc in range(len(c)):\n",
    "        p = c[cc].lower()\n",
    "        k = '<sos> ' + p + ' <eos>'\n",
    "        caps[i][cc] = k"
   ]
  },
  {
   "cell_type": "code",
   "execution_count": 8,
   "metadata": {
    "execution": {
     "iopub.execute_input": "2022-04-30T23:36:23.857369Z",
     "iopub.status.busy": "2022-04-30T23:36:23.856552Z",
     "iopub.status.idle": "2022-04-30T23:36:23.897598Z",
     "shell.execute_reply": "2022-04-30T23:36:23.896740Z",
     "shell.execute_reply.started": "2022-04-30T23:36:23.857323Z"
    }
   },
   "outputs": [],
   "source": [
    "# making a vocabulary dictionary with position\n",
    "vacob ={}\n",
    "for i,c in caps.items():\n",
    "    for cc in range(len(c)):\n",
    "        words = caps[i][cc].split()\n",
    "        for w in words:\n",
    "            if w not in vacob:\n",
    "                vacob[w] = len(vacob) + 1"
   ]
  },
  {
   "cell_type": "code",
   "execution_count": 9,
   "metadata": {
    "execution": {
     "iopub.execute_input": "2022-04-30T23:36:23.900424Z",
     "iopub.status.busy": "2022-04-30T23:36:23.899952Z",
     "iopub.status.idle": "2022-04-30T23:36:23.947814Z",
     "shell.execute_reply": "2022-04-30T23:36:23.946996Z",
     "shell.execute_reply.started": "2022-04-30T23:36:23.900381Z"
    }
   },
   "outputs": [],
   "source": [
    "for i,c in caps.items():\n",
    "    for cc in range(len(c)):\n",
    "        words = caps[i][cc].split()\n",
    "        encoded = []\n",
    "        for w in words:\n",
    "            encoded.append(vacob[w])\n",
    "        caps[i][cc] = encoded"
   ]
  },
  {
   "cell_type": "code",
   "execution_count": 10,
   "metadata": {
    "execution": {
     "iopub.execute_input": "2022-04-30T23:36:23.952381Z",
     "iopub.status.busy": "2022-04-30T23:36:23.951882Z",
     "iopub.status.idle": "2022-04-30T23:36:23.960855Z",
     "shell.execute_reply": "2022-04-30T23:36:23.959963Z",
     "shell.execute_reply.started": "2022-04-30T23:36:23.952329Z"
    }
   },
   "outputs": [],
   "source": [
    "m = 0\n",
    "for i,c in caps.items():\n",
    "    for cc in c:\n",
    "        if m < len(cc):\n",
    "            m = len(cc)"
   ]
  },
  {
   "cell_type": "code",
   "execution_count": 11,
   "metadata": {
    "execution": {
     "iopub.execute_input": "2022-04-30T23:36:23.975809Z",
     "iopub.status.busy": "2022-04-30T23:36:23.975326Z",
     "iopub.status.idle": "2022-04-30T23:36:23.980897Z",
     "shell.execute_reply": "2022-04-30T23:36:23.979836Z",
     "shell.execute_reply.started": "2022-04-30T23:36:23.975773Z"
    }
   },
   "outputs": [],
   "source": [
    "from tensorflow.keras.utils import to_categorical\n",
    "from keras.preprocessing.sequence import pad_sequences"
   ]
  },
  {
   "cell_type": "code",
   "execution_count": 12,
   "metadata": {
    "execution": {
     "iopub.execute_input": "2022-04-30T23:36:23.982955Z",
     "iopub.status.busy": "2022-04-30T23:36:23.982451Z",
     "iopub.status.idle": "2022-04-30T23:36:28.079839Z",
     "shell.execute_reply": "2022-04-30T23:36:28.078933Z",
     "shell.execute_reply.started": "2022-04-30T23:36:23.982906Z"
    }
   },
   "outputs": [],
   "source": [
    "x_img = []\n",
    "yin = []\n",
    "yout = []\n",
    "\n",
    "for i,c in caps.items():\n",
    "    for c2 in c:\n",
    "        for g in range(1,len(c2)):\n",
    "            yi = [c2[:g]]\n",
    "            yo = c2[g]\n",
    "\n",
    "            in_seq = pad_sequences(yi, maxlen = m, padding = 'post', truncating = 'post')[0]\n",
    "            out_seq = to_categorical([yo], num_classes = len(vacob) + 1)[0]\n",
    "\n",
    "            x_img.append(imgs[i])\n",
    "            yin.append(in_seq)\n",
    "            yout.append(out_seq)"
   ]
  },
  {
   "cell_type": "code",
   "execution_count": 13,
   "metadata": {
    "execution": {
     "iopub.execute_input": "2022-04-30T23:36:28.081764Z",
     "iopub.status.busy": "2022-04-30T23:36:28.081470Z",
     "iopub.status.idle": "2022-04-30T23:36:29.554694Z",
     "shell.execute_reply": "2022-04-30T23:36:29.553395Z",
     "shell.execute_reply.started": "2022-04-30T23:36:28.081717Z"
    }
   },
   "outputs": [],
   "source": [
    "x_in = np.array(x_img)\n",
    "y_in = np.array(yin)\n",
    "y_out = np.array(yout)"
   ]
  },
  {
   "cell_type": "code",
   "execution_count": 14,
   "metadata": {
    "execution": {
     "iopub.execute_input": "2022-04-30T23:36:29.556526Z",
     "iopub.status.busy": "2022-04-30T23:36:29.556258Z",
     "iopub.status.idle": "2022-04-30T23:36:29.561537Z",
     "shell.execute_reply": "2022-04-30T23:36:29.560669Z",
     "shell.execute_reply.started": "2022-04-30T23:36:29.556489Z"
    }
   },
   "outputs": [
    {
     "name": "stdout",
     "output_type": "stream",
     "text": [
      "(86349, 4096) (86349, 35) (86349, 4319)\n"
     ]
    }
   ],
   "source": [
    "print(x_in.shape,y_in.shape,y_out.shape)"
   ]
  },
  {
   "cell_type": "code",
   "execution_count": 15,
   "metadata": {},
   "outputs": [
    {
     "name": "stdout",
     "output_type": "stream",
     "text": [
      "Model: \"model_1\"\n",
      "__________________________________________________________________________________________________\n",
      " Layer (type)                   Output Shape         Param #     Connected to                     \n",
      "==================================================================================================\n",
      " input_3 (InputLayer)           [(None, 35)]         0           []                               \n",
      "                                                                                                  \n",
      " input_2 (InputLayer)           [(None, 4096)]       0           []                               \n",
      "                                                                                                  \n",
      " embedding (Embedding)          (None, 35, 128)      552832      ['input_3[0][0]']                \n",
      "                                                                                                  \n",
      " dropout (Dropout)              (None, 4096)         0           ['input_2[0][0]']                \n",
      "                                                                                                  \n",
      " dropout_1 (Dropout)            (None, 35, 128)      0           ['embedding[0][0]']              \n",
      "                                                                                                  \n",
      " dense (Dense)                  (None, 256)          1048832     ['dropout[0][0]']                \n",
      "                                                                                                  \n",
      " lstm (LSTM)                    (None, 256)          394240      ['dropout_1[0][0]']              \n",
      "                                                                                                  \n",
      " add (Add)                      (None, 256)          0           ['dense[0][0]',                  \n",
      "                                                                  'lstm[0][0]']                   \n",
      "                                                                                                  \n",
      " dense_1 (Dense)                (None, 256)          65792       ['add[0][0]']                    \n",
      "                                                                                                  \n",
      " dense_2 (Dense)                (None, 4319)         1109983     ['dense_1[0][0]']                \n",
      "                                                                                                  \n",
      "==================================================================================================\n",
      "Total params: 3,171,679\n",
      "Trainable params: 3,171,679\n",
      "Non-trainable params: 0\n",
      "__________________________________________________________________________________________________\n"
     ]
    }
   ],
   "source": [
    "inputs1 = Input(shape=(4096,))\n",
    "drop_1 = Dropout(0.5)(inputs1)\n",
    "fe2 = Dense(256, activation='relu')(drop_1)\n",
    "\n",
    "inputs2 = Input(shape=(m,))\n",
    "embed1 = Embedding(input_dim = len(vacob) + 1, output_dim = 128, input_length = m, mask_zero=True)(inputs2)\n",
    "drop_2 = Dropout(0.5)(embed1)\n",
    "se3 = LSTM(256)(drop_2)\n",
    "\n",
    "decoder1 = add([fe2, se3])\n",
    "decoder2 = Dense(256, activation='relu')(decoder1)\n",
    "outputs = Dense(len(vacob) + 1, activation='softmax')(decoder2)\n",
    "\n",
    "model = Model(inputs=[inputs1, inputs2], outputs = outputs)\n",
    "model.compile(loss='categorical_crossentropy', optimizer='adam', metrics=['accuracy'])\n",
    "model.summary()"
   ]
  },
  {
   "cell_type": "code",
   "execution_count": 16,
   "metadata": {
    "scrolled": true
   },
   "outputs": [
    {
     "name": "stdout",
     "output_type": "stream",
     "text": [
      "Epoch 1/100\n",
      "2699/2699 [==============================] - 27s 6ms/step - loss: 4.5941 - accuracy: 0.2456\n",
      "Epoch 2/100\n",
      "2699/2699 [==============================] - 17s 6ms/step - loss: 3.7974 - accuracy: 0.3124\n",
      "Epoch 3/100\n",
      "2699/2699 [==============================] - 18s 7ms/step - loss: 3.5077 - accuracy: 0.3307\n",
      "Epoch 4/100\n",
      "2699/2699 [==============================] - 17s 6ms/step - loss: 3.3202 - accuracy: 0.3426\n",
      "Epoch 5/100\n",
      "2699/2699 [==============================] - 18s 7ms/step - loss: 3.1781 - accuracy: 0.3522\n",
      "Epoch 6/100\n",
      "2699/2699 [==============================] - 17s 6ms/step - loss: 3.0602 - accuracy: 0.3602\n",
      "Epoch 7/100\n",
      "2699/2699 [==============================] - 18s 7ms/step - loss: 2.9646 - accuracy: 0.3664\n",
      "Epoch 8/100\n",
      "2699/2699 [==============================] - 17s 6ms/step - loss: 2.8823 - accuracy: 0.3732\n",
      "Epoch 9/100\n",
      "2699/2699 [==============================] - 18s 7ms/step - loss: 2.8075 - accuracy: 0.3780\n",
      "Epoch 10/100\n",
      "2699/2699 [==============================] - 18s 7ms/step - loss: 2.7449 - accuracy: 0.3837\n",
      "Epoch 11/100\n",
      "2699/2699 [==============================] - 19s 7ms/step - loss: 2.6806 - accuracy: 0.3892\n",
      "Epoch 12/100\n",
      "2699/2699 [==============================] - 17s 6ms/step - loss: 2.6307 - accuracy: 0.3938\n",
      "Epoch 13/100\n",
      "2699/2699 [==============================] - 16s 6ms/step - loss: 2.5805 - accuracy: 0.3993\n",
      "Epoch 14/100\n",
      "2699/2699 [==============================] - 17s 6ms/step - loss: 2.5345 - accuracy: 0.4039\n",
      "Epoch 15/100\n",
      "2699/2699 [==============================] - 17s 6ms/step - loss: 2.4907 - accuracy: 0.4081\n",
      "Epoch 16/100\n",
      "2699/2699 [==============================] - 17s 6ms/step - loss: 2.4496 - accuracy: 0.4145\n",
      "Epoch 17/100\n",
      "2699/2699 [==============================] - 16s 6ms/step - loss: 2.4112 - accuracy: 0.4184\n",
      "Epoch 18/100\n",
      "2699/2699 [==============================] - 17s 6ms/step - loss: 2.3754 - accuracy: 0.4230\n",
      "Epoch 19/100\n",
      "2699/2699 [==============================] - 16s 6ms/step - loss: 2.3361 - accuracy: 0.4294\n",
      "Epoch 20/100\n",
      "2699/2699 [==============================] - 17s 6ms/step - loss: 2.3070 - accuracy: 0.4317\n",
      "Epoch 21/100\n",
      "2699/2699 [==============================] - 16s 6ms/step - loss: 2.2842 - accuracy: 0.4360\n",
      "Epoch 22/100\n",
      "2699/2699 [==============================] - 16s 6ms/step - loss: 2.2568 - accuracy: 0.4391\n",
      "Epoch 23/100\n",
      "2699/2699 [==============================] - 16s 6ms/step - loss: 2.2248 - accuracy: 0.4457\n",
      "Epoch 24/100\n",
      "2699/2699 [==============================] - 17s 6ms/step - loss: 2.2050 - accuracy: 0.4492\n",
      "Epoch 25/100\n",
      "2699/2699 [==============================] - 17s 6ms/step - loss: 2.1808 - accuracy: 0.4528\n",
      "Epoch 26/100\n",
      "2699/2699 [==============================] - 17s 6ms/step - loss: 2.1555 - accuracy: 0.4568\n",
      "Epoch 27/100\n",
      "2699/2699 [==============================] - 17s 6ms/step - loss: 2.1340 - accuracy: 0.4607\n",
      "Epoch 28/100\n",
      "2699/2699 [==============================] - 17s 6ms/step - loss: 2.1134 - accuracy: 0.4632\n",
      "Epoch 29/100\n",
      "2699/2699 [==============================] - 17s 6ms/step - loss: 2.0992 - accuracy: 0.4663\n",
      "Epoch 30/100\n",
      "2699/2699 [==============================] - 17s 6ms/step - loss: 2.0830 - accuracy: 0.4674\n",
      "Epoch 31/100\n",
      "2699/2699 [==============================] - 17s 6ms/step - loss: 2.0619 - accuracy: 0.4734\n",
      "Epoch 32/100\n",
      "2699/2699 [==============================] - 17s 6ms/step - loss: 2.0441 - accuracy: 0.4751\n",
      "Epoch 33/100\n",
      "2699/2699 [==============================] - 17s 6ms/step - loss: 2.0315 - accuracy: 0.4780\n",
      "Epoch 34/100\n",
      "2699/2699 [==============================] - 17s 6ms/step - loss: 2.0149 - accuracy: 0.4802\n",
      "Epoch 35/100\n",
      "2699/2699 [==============================] - 17s 6ms/step - loss: 2.0040 - accuracy: 0.4832\n",
      "Epoch 36/100\n",
      "2699/2699 [==============================] - 17s 6ms/step - loss: 1.9860 - accuracy: 0.4863\n",
      "Epoch 37/100\n",
      "2699/2699 [==============================] - 17s 6ms/step - loss: 1.9746 - accuracy: 0.4902\n",
      "Epoch 38/100\n",
      "2699/2699 [==============================] - 17s 6ms/step - loss: 1.9669 - accuracy: 0.4894\n",
      "Epoch 39/100\n",
      "2699/2699 [==============================] - 17s 6ms/step - loss: 1.9496 - accuracy: 0.4945\n",
      "Epoch 40/100\n",
      "2699/2699 [==============================] - 17s 6ms/step - loss: 1.9442 - accuracy: 0.4956\n",
      "Epoch 41/100\n",
      "2699/2699 [==============================] - 17s 6ms/step - loss: 1.9366 - accuracy: 0.4965\n",
      "Epoch 42/100\n",
      "2699/2699 [==============================] - 17s 6ms/step - loss: 1.9199 - accuracy: 0.5024\n",
      "Epoch 43/100\n",
      "2699/2699 [==============================] - 17s 6ms/step - loss: 1.9144 - accuracy: 0.5026\n",
      "Epoch 44/100\n",
      "2699/2699 [==============================] - 17s 6ms/step - loss: 1.9050 - accuracy: 0.5041\n",
      "Epoch 45/100\n",
      "2699/2699 [==============================] - 17s 6ms/step - loss: 1.8962 - accuracy: 0.5037\n",
      "Epoch 46/100\n",
      "2699/2699 [==============================] - 17s 6ms/step - loss: 1.8833 - accuracy: 0.5071\n",
      "Epoch 47/100\n",
      "2699/2699 [==============================] - 17s 6ms/step - loss: 1.8803 - accuracy: 0.5088\n",
      "Epoch 48/100\n",
      "2699/2699 [==============================] - 17s 6ms/step - loss: 1.8719 - accuracy: 0.5096\n",
      "Epoch 49/100\n",
      "2699/2699 [==============================] - 17s 6ms/step - loss: 1.8626 - accuracy: 0.5107\n",
      "Epoch 50/100\n",
      "2699/2699 [==============================] - 17s 6ms/step - loss: 1.8614 - accuracy: 0.5136\n",
      "Epoch 51/100\n",
      "2699/2699 [==============================] - 17s 6ms/step - loss: 1.8417 - accuracy: 0.5169\n",
      "Epoch 52/100\n",
      "2699/2699 [==============================] - 16s 6ms/step - loss: 1.8434 - accuracy: 0.5163\n",
      "Epoch 53/100\n",
      "2699/2699 [==============================] - 17s 6ms/step - loss: 1.8386 - accuracy: 0.5164\n",
      "Epoch 54/100\n",
      "2699/2699 [==============================] - 17s 6ms/step - loss: 1.8350 - accuracy: 0.5173\n",
      "Epoch 55/100\n",
      "2699/2699 [==============================] - 17s 6ms/step - loss: 1.8301 - accuracy: 0.5185\n",
      "Epoch 56/100\n",
      "2699/2699 [==============================] - 17s 6ms/step - loss: 1.8211 - accuracy: 0.5189\n",
      "Epoch 57/100\n",
      "2699/2699 [==============================] - 17s 6ms/step - loss: 1.8241 - accuracy: 0.5201\n",
      "Epoch 58/100\n",
      "2699/2699 [==============================] - 16s 6ms/step - loss: 1.8040 - accuracy: 0.5233\n",
      "Epoch 59/100\n",
      "2699/2699 [==============================] - 16s 6ms/step - loss: 1.8089 - accuracy: 0.5232\n",
      "Epoch 60/100\n",
      "2699/2699 [==============================] - 17s 6ms/step - loss: 1.8003 - accuracy: 0.5242\n",
      "Epoch 61/100\n",
      "2699/2699 [==============================] - 17s 6ms/step - loss: 1.7961 - accuracy: 0.5249\n",
      "Epoch 62/100\n",
      "2699/2699 [==============================] - 18s 6ms/step - loss: 1.7936 - accuracy: 0.5277\n",
      "Epoch 63/100\n",
      "2699/2699 [==============================] - 17s 6ms/step - loss: 1.7937 - accuracy: 0.5289\n",
      "Epoch 64/100\n",
      "2699/2699 [==============================] - 17s 6ms/step - loss: 1.7901 - accuracy: 0.5288\n",
      "Epoch 65/100\n",
      "2699/2699 [==============================] - 17s 6ms/step - loss: 1.7757 - accuracy: 0.5295\n",
      "Epoch 66/100\n",
      "2699/2699 [==============================] - 17s 6ms/step - loss: 1.7795 - accuracy: 0.5309\n",
      "Epoch 67/100\n",
      "2699/2699 [==============================] - 17s 6ms/step - loss: 1.7720 - accuracy: 0.5316\n",
      "Epoch 68/100\n",
      "2699/2699 [==============================] - 17s 6ms/step - loss: 1.7759 - accuracy: 0.5321\n",
      "Epoch 69/100\n",
      "2699/2699 [==============================] - 17s 6ms/step - loss: 1.7752 - accuracy: 0.5324\n",
      "Epoch 70/100\n",
      "2699/2699 [==============================] - 17s 6ms/step - loss: 1.7683 - accuracy: 0.5327\n",
      "Epoch 71/100\n",
      "2699/2699 [==============================] - 17s 6ms/step - loss: 1.7550 - accuracy: 0.5343\n",
      "Epoch 72/100\n",
      "2699/2699 [==============================] - 17s 6ms/step - loss: 1.7592 - accuracy: 0.5350\n",
      "Epoch 73/100\n",
      "2699/2699 [==============================] - 17s 6ms/step - loss: 1.7522 - accuracy: 0.5376\n",
      "Epoch 74/100\n",
      "2699/2699 [==============================] - 17s 6ms/step - loss: 1.7601 - accuracy: 0.5357\n",
      "Epoch 75/100\n",
      "2699/2699 [==============================] - 17s 6ms/step - loss: 1.7503 - accuracy: 0.5361\n",
      "Epoch 76/100\n",
      "2699/2699 [==============================] - 17s 6ms/step - loss: 1.7467 - accuracy: 0.5362\n",
      "Epoch 77/100\n",
      "2699/2699 [==============================] - 17s 6ms/step - loss: 1.7455 - accuracy: 0.5374\n",
      "Epoch 78/100\n",
      "2699/2699 [==============================] - 17s 6ms/step - loss: 1.7393 - accuracy: 0.5393\n",
      "Epoch 79/100\n"
     ]
    },
    {
     "name": "stdout",
     "output_type": "stream",
     "text": [
      "2699/2699 [==============================] - 17s 6ms/step - loss: 1.7423 - accuracy: 0.5387\n",
      "Epoch 80/100\n",
      "2699/2699 [==============================] - 16s 6ms/step - loss: 1.7480 - accuracy: 0.5391\n",
      "Epoch 81/100\n",
      "2699/2699 [==============================] - 16s 6ms/step - loss: 1.7348 - accuracy: 0.5401\n",
      "Epoch 82/100\n",
      "2699/2699 [==============================] - 17s 6ms/step - loss: 1.7385 - accuracy: 0.5411\n",
      "Epoch 83/100\n",
      "2699/2699 [==============================] - 17s 6ms/step - loss: 1.7349 - accuracy: 0.5413\n",
      "Epoch 84/100\n",
      "2699/2699 [==============================] - 18s 7ms/step - loss: 1.7405 - accuracy: 0.5422\n",
      "Epoch 85/100\n",
      "2699/2699 [==============================] - 17s 6ms/step - loss: 1.7361 - accuracy: 0.5418\n",
      "Epoch 86/100\n",
      "2699/2699 [==============================] - 17s 6ms/step - loss: 1.7343 - accuracy: 0.5402\n",
      "Epoch 87/100\n",
      "2699/2699 [==============================] - 17s 6ms/step - loss: 1.7354 - accuracy: 0.5424\n",
      "Epoch 88/100\n",
      "2699/2699 [==============================] - 16s 6ms/step - loss: 1.7332 - accuracy: 0.5436\n",
      "Epoch 89/100\n",
      "2699/2699 [==============================] - 17s 6ms/step - loss: 1.7350 - accuracy: 0.5424\n",
      "Epoch 90/100\n",
      "2699/2699 [==============================] - 17s 6ms/step - loss: 1.7342 - accuracy: 0.5425\n",
      "Epoch 91/100\n",
      "2699/2699 [==============================] - 17s 6ms/step - loss: 1.7289 - accuracy: 0.5448\n",
      "Epoch 92/100\n",
      "2699/2699 [==============================] - 17s 6ms/step - loss: 1.7294 - accuracy: 0.5458\n",
      "Epoch 93/100\n",
      "2699/2699 [==============================] - 17s 6ms/step - loss: 1.7252 - accuracy: 0.5450\n",
      "Epoch 94/100\n",
      "2699/2699 [==============================] - 17s 6ms/step - loss: 1.7187 - accuracy: 0.5459\n",
      "Epoch 95/100\n",
      "2699/2699 [==============================] - 17s 6ms/step - loss: 1.7242 - accuracy: 0.5466\n",
      "Epoch 96/100\n",
      "2699/2699 [==============================] - 17s 6ms/step - loss: 1.7144 - accuracy: 0.5485\n",
      "Epoch 97/100\n",
      "2699/2699 [==============================] - 17s 6ms/step - loss: 1.7238 - accuracy: 0.5465\n",
      "Epoch 98/100\n",
      "2699/2699 [==============================] - 17s 6ms/step - loss: 1.7361 - accuracy: 0.5418\n",
      "Epoch 99/100\n",
      "2699/2699 [==============================] - 17s 6ms/step - loss: 1.7136 - accuracy: 0.5473\n",
      "Epoch 100/100\n",
      "2699/2699 [==============================] - 17s 6ms/step - loss: 1.7167 - accuracy: 0.5476\n"
     ]
    },
    {
     "data": {
      "text/plain": [
       "<keras.callbacks.History at 0x2ab35881100>"
      ]
     },
     "execution_count": 16,
     "metadata": {},
     "output_type": "execute_result"
    }
   ],
   "source": [
    "model.fit([x_in, y_in], y_out, batch_size = 32, epochs = 100)"
   ]
  },
  {
   "cell_type": "code",
   "execution_count": 17,
   "metadata": {
    "execution": {
     "iopub.execute_input": "2022-05-01T00:00:03.897609Z",
     "iopub.status.busy": "2022-05-01T00:00:03.897070Z",
     "iopub.status.idle": "2022-05-01T00:00:03.905082Z",
     "shell.execute_reply": "2022-05-01T00:00:03.903986Z",
     "shell.execute_reply.started": "2022-05-01T00:00:03.897558Z"
    }
   },
   "outputs": [],
   "source": [
    "inv_vacob = {v:k for k, v in vacob.items()}"
   ]
  },
  {
   "cell_type": "code",
   "execution_count": 18,
   "metadata": {
    "execution": {
     "iopub.execute_input": "2022-05-01T00:05:54.052688Z",
     "iopub.status.busy": "2022-05-01T00:05:54.052379Z",
     "iopub.status.idle": "2022-05-01T00:05:55.003972Z",
     "shell.execute_reply": "2022-05-01T00:05:55.000153Z",
     "shell.execute_reply.started": "2022-05-01T00:05:54.052655Z"
    }
   },
   "outputs": [
    {
     "name": "stdout",
     "output_type": "stream",
     "text": [
      " a man in a blue canoe battling in time of shrubs\n"
     ]
    },
    {
     "data": {
      "image/png": "[encoded data removed]",
      "text/plain": [
       "<Figure size 432x288 with 1 Axes>"
      ]
     },
     "metadata": {
      "needs_background": "light"
     },
     "output_type": "display_data"
    }
   ],
   "source": [
    "h = 1234\n",
    "path_img = images[h]\n",
    "test = cv2.imread(path_img)\n",
    "test = cv2.cvtColor(test, cv2.COLOR_BGR2RGB)\n",
    "test = cv2.resize(test, (224,224))\n",
    "test = test.reshape(1,224,224,3)\n",
    "predt = cnn.predict(test).reshape(1,4096)\n",
    "\n",
    "word = ['<sos>']\n",
    "word_encoded = []\n",
    "stement = ''\n",
    "for i in range(20):\n",
    "    word_encoded = []\n",
    "    for w in word:\n",
    "        word_encoded.append(vacob[w])\n",
    "\n",
    "\n",
    "    encoded = [word_encoded]\n",
    "    encoded = pad_sequences(encoded, padding = 'post', truncating = 'post', maxlen = m)\n",
    "\n",
    "    prediction = np.argmax(model.predict([predt, encoded]))\n",
    "\n",
    "    sampled_word = inv_vacob[prediction]\n",
    "    if sampled_word == '<eos>':\n",
    "        break\n",
    "\n",
    "    word.append(sampled_word)\n",
    "    stement += ' ' + sampled_word\n",
    "\n",
    "plt.imshow(test.reshape(224,224,3))\n",
    "print(stement)"
   ]
  },
  {
   "cell_type": "markdown",
   "metadata": {},
   "source": [
    "## BLEU Score Explaination:\n",
    "\n",
    "The BLEU score compares a sentence against one or more reference sentences and tells how well does the candidate sentence matched the list of reference sentences. It gives an output score between 0 and 1.\n",
    "\n",
    "A BLEU score of 1 means that the candidate sentence perfectly matches one of the reference sentences.\n",
    "\n",
    "This score is a common metric of measurement for Image captioning models.\n",
    "\n",
    "**BLEU-n** is just the geometric average of the n-gram precision.\n",
    "\n",
    "For example, **BLEU-1** is simply the **unigram precision**, **BLEU-2** is the **geometric average of unigram and bigram precision**, **BLEU-3** is the **geometric average of unigram, bigram, and trigram precision** and so on.\n",
    "\n",
    "Having said that, if you want to compute specific **n-gram BLEU scores**, you have to pass a weights parameter when you call **corpus_bleu** . Note that if you ignore passing this weights parameter, then by default BLEU-4 scores are returned, which is what happening in the evaluation here."
   ]
  },
  {
   "cell_type": "code",
   "execution_count": 19,
   "metadata": {},
   "outputs": [],
   "source": [
    "from nltk.translate.bleu_score import sentence_bleu"
   ]
  },
  {
   "cell_type": "code",
   "execution_count": 20,
   "metadata": {},
   "outputs": [],
   "source": [
    "allcaps = {}\n",
    "for cap in captions:\n",
    "    try:\n",
    "        a = cap.split(',')\n",
    "        path = a[0]\n",
    "        cape = a[1][:-2]\n",
    "    except:\n",
    "        continue\n",
    "    \n",
    "    if path not in allcaps:\n",
    "        allcaps[path] = [cape]\n",
    "    else:\n",
    "        allcaps[path].append(cape)"
   ]
  },
  {
   "cell_type": "code",
   "execution_count": 21,
   "metadata": {},
   "outputs": [],
   "source": [
    "for cap in allcaps:\n",
    "    if cap == images[h].split('\\\\')[-1]:\n",
    "        refsent = allcaps[cap]"
   ]
  },
  {
   "cell_type": "code",
   "execution_count": 22,
   "metadata": {
    "scrolled": true
   },
   "outputs": [],
   "source": [
    "candidate = stement[1:]\n",
    "reference = []\n",
    "for ref in refsent:\n",
    "    reference.append(ref.split())"
   ]
  },
  {
   "cell_type": "code",
   "execution_count": 23,
   "metadata": {},
   "outputs": [
    {
     "name": "stdout",
     "output_type": "stream",
     "text": [
      "BLEU score -> 1.0350003944289303e-231\n",
      "Individual 1-gram: 0.104167\n"
     ]
    },
    {
     "name": "stderr",
     "output_type": "stream",
     "text": [
      "E:\\Anaconda3\\lib\\site-packages\\nltk\\translate\\bleu_score.py:515: UserWarning: \n",
      "The hypothesis contains 0 counts of 2-gram overlaps.\n",
      "Therefore the BLEU score evaluates to 0, independently of\n",
      "how many N-gram overlaps of lower order it contains.\n",
      "Consider using lower n-gram order or use SmoothingFunction()\n",
      "  warnings.warn(_msg)\n",
      "E:\\Anaconda3\\lib\\site-packages\\nltk\\translate\\bleu_score.py:515: UserWarning: \n",
      "The hypothesis contains 0 counts of 3-gram overlaps.\n",
      "Therefore the BLEU score evaluates to 0, independently of\n",
      "how many N-gram overlaps of lower order it contains.\n",
      "Consider using lower n-gram order or use SmoothingFunction()\n",
      "  warnings.warn(_msg)\n",
      "E:\\Anaconda3\\lib\\site-packages\\nltk\\translate\\bleu_score.py:515: UserWarning: \n",
      "The hypothesis contains 0 counts of 4-gram overlaps.\n",
      "Therefore the BLEU score evaluates to 0, independently of\n",
      "how many N-gram overlaps of lower order it contains.\n",
      "Consider using lower n-gram order or use SmoothingFunction()\n",
      "  warnings.warn(_msg)\n"
     ]
    }
   ],
   "source": [
    "print('BLEU score -> {}'.format(sentence_bleu(reference, candidate)))\n",
    "print('Individual 1-gram: %f' % sentence_bleu(reference, candidate, weights=(1, 0, 0, 0)))\n",
    "#print('Individual 2-gram: %f' % sentence_bleu(reference, candidate, weights=(0, 1, 0, 0)))\n",
    "#print('Individual 3-gram: %f' % sentence_bleu(reference, candidate, weights=(0, 0, 1, 0)))\n",
    "#print('Individual 4-gram: %f' % sentence_bleu(reference, candidate, weights=(0, 0, 0, 1)))"
   ]
  }
 ],
 "metadata": {
  "kernelspec": {
   "display_name": "Python 3 (ipykernel)",
   "language": "python",
   "name": "python3"
  },
  "language_info": {
   "codemirror_mode": {
    "name": "ipython",
    "version": 3
   },
   "file_extension": ".py",
   "mimetype": "text/x-python",
   "name": "python",
   "nbconvert_exporter": "python",
   "pygments_lexer": "ipython3",
   "version": "3.9.7"
  }
 },
 "nbformat": 4,
 "nbformat_minor": 4
}
